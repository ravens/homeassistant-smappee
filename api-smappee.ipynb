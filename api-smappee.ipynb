{
 "cells": [
  {
   "cell_type": "markdown",
   "metadata": {},
   "source": [
    "smappee has a local interface available on port 80 that does not require any authenticationusing curl :\n",
    "```\n",
    " curl 'http://smappee.home/gateway/apipublic/instantaneous' -H 'Content-Type: application/json' --data-binary 'loadInstantaneous' \n",
    "```\n",
    "\n",
    " [{\"value\":\"1\",\"key\":\"meterReaderRestart\"},{\"value\":\"847047\",\"key\":\"phase0ActivePower\"},{\"value\":\"83\",\"key\":\"phase0Cosfi\"},{\"value\":\"0\",\"key\":\"phase0Quadrant\"},{\"value\":\"0\",\"key\":\"autoCommissioningCandidate\"},{\"value\":\"0\",\"key\":\"autoCommissioningRunning\"},{\"value\":\"0\",\"key\":\"autoCommissioningValidation\"},{\"value\":\"0\",\"key\":\"voltageReversed\"}]"
   ]
  },
  {
   "cell_type": "code",
   "execution_count": 4,
   "metadata": {
    "collapsed": true
   },
   "outputs": [],
   "source": [
    "import json, requests"
   ]
  },
  {
   "cell_type": "code",
   "execution_count": 5,
   "metadata": {
    "collapsed": true
   },
   "outputs": [],
   "source": [
    "url = 'http://smappee.home/gateway/apipublic/instantaneous'\n",
    "data = 'loadInstantaneous'\n",
    "headers = {'Content-type': 'application/json'}"
   ]
  },
  {
   "cell_type": "code",
   "execution_count": 6,
   "metadata": {},
   "outputs": [
    {
     "name": "stdout",
     "output_type": "stream",
     "text": [
      "{'power': '123066', 'cosphi': '28'}\n"
     ]
    }
   ],
   "source": [
    "resp = requests.post(url=url, data=data, headers=headers)\n",
    "if resp:\n",
    "\tdata = json.loads(resp.text)\n",
    "\tif data:\n",
    "\t\tresult = {}\n",
    "\t\tfor i in range(len(data)):\n",
    "\t\t\tif (data[i][\"key\"] == \"phase0ActivePower\"):\n",
    "\t\t\t\tresult[\"power\"] = data[i][\"value\"]\n",
    "\t\t\tif (data[i][\"key\"] == \"phase0Cosfi\"):\n",
    "\t\t\t\tresult[\"cosphi\"] = data[i][\"value\"]\n",
    "\t\tprint(result)"
   ]
  }
 ],
 "metadata": {
  "kernelspec": {
   "display_name": "Python 3",
   "language": "python",
   "name": "python3"
  },
  "language_info": {
   "codemirror_mode": {
    "name": "ipython",
    "version": 3
   },
   "file_extension": ".py",
   "mimetype": "text/x-python",
   "name": "python",
   "nbconvert_exporter": "python",
   "pygments_lexer": "ipython3",
   "version": "3.6.2"
  }
 },
 "nbformat": 4,
 "nbformat_minor": 2
}
